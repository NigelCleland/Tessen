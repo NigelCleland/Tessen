{
 "metadata": {
  "name": "Example_Tessen"
 },
 "nbformat": 3,
 "nbformat_minor": 0,
 "worksheets": [
  {
   "cells": [
    {
     "cell_type": "code",
     "collapsed": false,
     "input": [
      "import os\n",
      "import pandas as pd\n",
      "\n",
      "from OfferPandas import Frame, load_offerframe\n",
      "import sys\n",
      "\n",
      "sys.path.append('/home/nigel/python/Tessen/')\n",
      "import Tessen\n",
      "\n",
      "import matplotlib.pyplot as plt\n"
     ],
     "language": "python",
     "metadata": {},
     "outputs": [],
     "prompt_number": 16
    },
    {
     "cell_type": "code",
     "collapsed": false,
     "input": [
      "energy = load_offerframe('offers20131212.csv')\n",
      "reserve = load_offerframe('generatorreserves20131212.csv')\n",
      "\n",
      "filters = {\"Trading_Period\": 45, \"Island_Name\": \"North Island\"}\n",
      "fan_data = Tessen.generate.create_fan(energy, reserve, fName=None, break_tp=False, **filters)"
     ],
     "language": "python",
     "metadata": {},
     "outputs": [
      {
       "output_type": "stream",
       "stream": "stdout",
       "text": [
        "I'm beginning to create fan curves, I estimate I'll need to do\n",
        "at least 124 of these which may take at least 0.992 seconds, hold tight\n",
        "I successfully calculated 107 fans in 3 seconds"
       ]
      },
      {
       "output_type": "stream",
       "stream": "stdout",
       "text": [
        "\n"
       ]
      }
     ],
     "prompt_number": 20
    },
    {
     "cell_type": "code",
     "collapsed": false,
     "input": [
      "fan_data"
     ],
     "language": "python",
     "metadata": {},
     "outputs": [
      {
       "html": [
        "<pre>\n",
        "&ltclass 'pandas.core.frame.DataFrame'&gt\n",
        "Int64Index: 11296 entries, 0 to 11295\n",
        "Data columns (total 28 columns):\n",
        "Energy Price                    11296  non-null values\n",
        "Energy Quantity                 11296  non-null values\n",
        "Incremental Energy Quantity     11296  non-null values\n",
        "Cumulative Energy Quantity      11296  non-null values\n",
        "Reserve Price                   11296  non-null values\n",
        "Reserve Quantity                11296  non-null values\n",
        "Incremental Reserve Quantity    11296  non-null values\n",
        "Cumulative Reserve Quantity     11296  non-null values\n",
        "Load_Area                       11296  non-null values\n",
        "Region                          11296  non-null values\n",
        "Max_Output                      11296  non-null values\n",
        "Reserve_Percent                 11296  non-null values\n",
        "Trading_Period_ID               11296  non-null values\n",
        "Station                         11296  non-null values\n",
        "Product_Type                    7596  non-null values\n",
        "Bus_Id                          11296  non-null values\n",
        "Generation_Type                 11296  non-null values\n",
        "Node                            11296  non-null values\n",
        "Reserve_Type                    7596  non-null values\n",
        "Location_Name                   11296  non-null values\n",
        "Company                         11296  non-null values\n",
        "Island_Name                     11296  non-null values\n",
        "Trading_Date                    11296  non-null values\n",
        "Max_Ramp_Up_Rate                11296  non-null values\n",
        "Company_Name                    10986  non-null values\n",
        "Max_Ramp_Down_Rate              11296  non-null values\n",
        "Unit                            11296  non-null values\n",
        "Trading_Period                  11296  non-null values\n",
        "dtypes: datetime64[ns](1), float64(9), int64(6), object(12)\n",
        "</pre>"
       ],
       "output_type": "pyout",
       "prompt_number": 21,
       "text": [
        "<class 'pandas.core.frame.DataFrame'>\n",
        "Int64Index: 11296 entries, 0 to 11295\n",
        "Data columns (total 28 columns):\n",
        "Energy Price                    11296  non-null values\n",
        "Energy Quantity                 11296  non-null values\n",
        "Incremental Energy Quantity     11296  non-null values\n",
        "Cumulative Energy Quantity      11296  non-null values\n",
        "Reserve Price                   11296  non-null values\n",
        "Reserve Quantity                11296  non-null values\n",
        "Incremental Reserve Quantity    11296  non-null values\n",
        "Cumulative Reserve Quantity     11296  non-null values\n",
        "Load_Area                       11296  non-null values\n",
        "Region                          11296  non-null values\n",
        "Max_Output                      11296  non-null values\n",
        "Reserve_Percent                 11296  non-null values\n",
        "Trading_Period_ID               11296  non-null values\n",
        "Station                         11296  non-null values\n",
        "Product_Type                    7596  non-null values\n",
        "Bus_Id                          11296  non-null values\n",
        "Generation_Type                 11296  non-null values\n",
        "Node                            11296  non-null values\n",
        "Reserve_Type                    7596  non-null values\n",
        "Location_Name                   11296  non-null values\n",
        "Company                         11296  non-null values\n",
        "Island_Name                     11296  non-null values\n",
        "Trading_Date                    11296  non-null values\n",
        "Max_Ramp_Up_Rate                11296  non-null values\n",
        "Company_Name                    10986  non-null values\n",
        "Max_Ramp_Down_Rate              11296  non-null values\n",
        "Unit                            11296  non-null values\n",
        "Trading_Period                  11296  non-null values\n",
        "dtypes: datetime64[ns](1), float64(9), int64(6), object(12)"
       ]
      }
     ],
     "prompt_number": 21
    },
    {
     "cell_type": "code",
     "collapsed": false,
     "input": [
      "reserve_prices = fan_data[\"Reserve Price\"].unique()"
     ],
     "language": "python",
     "metadata": {},
     "outputs": [],
     "prompt_number": 25
    },
    {
     "cell_type": "code",
     "collapsed": false,
     "input": [
      "aggregate_data = {}\n",
      "for rp in reserve_prices:\n",
      "    aggregate_data[rp] = fan_data[fan_data[\"Reserve Price\"] <= rp].groupby([\"Station\", \"Cumulative Energy Quantity\"]).aggregate({\"Incremental Reserve Quantity\": np.sum, \"Incremental Energy Quantity\": np.max})"
     ],
     "language": "python",
     "metadata": {},
     "outputs": [],
     "prompt_number": 26
    },
    {
     "cell_type": "code",
     "collapsed": false,
     "input": [
      "aggregate_data[0.0].sort("
     ],
     "language": "python",
     "metadata": {},
     "outputs": [
      {
       "html": [
        "<pre>\n",
        "&ltclass 'pandas.core.frame.DataFrame'&gt\n",
        "MultiIndex: 1856 entries, (ANI, 0.0) to (WWD, 53.74)\n",
        "Data columns (total 2 columns):\n",
        "Incremental Energy Quantity     1856  non-null values\n",
        "Incremental Reserve Quantity    1856  non-null values\n",
        "dtypes: float64(2)\n",
        "</pre>"
       ],
       "output_type": "pyout",
       "prompt_number": 28,
       "text": [
        "<class 'pandas.core.frame.DataFrame'>\n",
        "MultiIndex: 1856 entries, (ANI, 0.0) to (WWD, 53.74)\n",
        "Data columns (total 2 columns):\n",
        "Incremental Energy Quantity     1856  non-null values\n",
        "Incremental Reserve Quantity    1856  non-null values\n",
        "dtypes: float64(2)"
       ]
      }
     ],
     "prompt_number": 28
    },
    {
     "cell_type": "code",
     "collapsed": false,
     "input": [
      "aggregations = {\"Incremental Reserve Quantity\": np.sum,\n",
      "                \"Incremental Energy Quantity\": np.max,\n",
      "                \"Energy Price\": np.max}\n",
      "\n",
      "group_columns = [\"Node\", \"Cumulative Energy Quantity\"]\n",
      "\n",
      "sort_columns = [\"Energy Price\", \"Incremental Reserve Quantity\"]\n",
      "ascending = [True, False]\n",
      "\n",
      "aggre = fan_data.groupby(group_columns, as_index=False).aggregate(aggregations)\n",
      "sorted_fan = aggre.sort(columns=sort_columns, ascending=ascending)\n"
     ],
     "language": "python",
     "metadata": {},
     "outputs": [],
     "prompt_number": 29
    },
    {
     "cell_type": "code",
     "collapsed": false,
     "input": [
      "sorted_fan[\"Incremental Energy"
     ],
     "language": "python",
     "metadata": {},
     "outputs": [
      {
       "html": [
        "<pre>\n",
        "&ltclass 'pandas.core.frame.DataFrame'&gt\n",
        "Int64Index: 3331 entries, 2641 to 78\n",
        "Data columns (total 5 columns):\n",
        "Node                            3331  non-null values\n",
        "Cumulative Energy Quantity      3331  non-null values\n",
        "Incremental Energy Quantity     3331  non-null values\n",
        "Incremental Reserve Quantity    3331  non-null values\n",
        "Energy Price                    3331  non-null values\n",
        "dtypes: float64(3), object(2)\n",
        "</pre>"
       ],
       "output_type": "pyout",
       "prompt_number": 30,
       "text": [
        "<class 'pandas.core.frame.DataFrame'>\n",
        "Int64Index: 3331 entries, 2641 to 78\n",
        "Data columns (total 5 columns):\n",
        "Node                            3331  non-null values\n",
        "Cumulative Energy Quantity      3331  non-null values\n",
        "Incremental Energy Quantity     3331  non-null values\n",
        "Incremental Reserve Quantity    3331  non-null values\n",
        "Energy Price                    3331  non-null values\n",
        "dtypes: float64(3), object(2)"
       ]
      }
     ],
     "prompt_number": 30
    },
    {
     "cell_type": "code",
     "collapsed": false,
     "input": [],
     "language": "python",
     "metadata": {},
     "outputs": []
    }
   ],
   "metadata": {}
  }
 ]
}